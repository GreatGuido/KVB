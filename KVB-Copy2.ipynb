{
 "cells": [
  {
   "cell_type": "code",
   "execution_count": null,
   "id": "liberal-continuity",
   "metadata": {},
   "outputs": [],
   "source": [
    "%serialconnect to --port=/dev/ttyUSB0 --baud=115200"
   ]
  },
  {
   "cell_type": "code",
   "execution_count": 1,
   "id": "literary-comfort",
   "metadata": {},
   "outputs": [
    {
     "name": "stdout",
     "output_type": "stream",
     "text": [
      "\u001b[31mNo serial connected\n",
      "\u001b[0m  %serialconnect to connect\n",
      "  %esptool to flash the device\n",
      "  %lsmagic to list commands"
     ]
    }
   ],
   "source": [
    "#import codey\n",
    "import urequests as requests\n",
    "import json\n",
    "import machine\n",
    "import neopixel\n",
    "import urllib\n",
    "\n",
    "linie3 =[]\n",
    "linie18 = []\n",
    "\n",
    "\n",
    "# url = \"https://ayacoo7.uber.space/kvb/examples/station.php?id=585\"\n",
    "#r = requests.get(url='http://ayacoo7.uber.space/kvb/examples/station.php?id=585')\n",
    "#r = urllib.urlopen(url)\n",
    "r = requests.get(url='http://www.baidu.com/')\n",
    "#request_url = \n",
    "#r = urequests.request(method=get,url=request_url)\n",
    "\n",
    "r = json.loads(r.text)\n",
    "\n",
    "r.pop(\"stand\")\n",
    "r.pop(\"name\")\n",
    "\n",
    "for element in r:\n",
    "    zeit = r[element]['time']\n",
    "    if zeit == 'Sofort':\n",
    "        r[element]['time'] = 0\n",
    "    else:\n",
    "        zeit = zeit.split()\n",
    "        zeit = zeit[0]\n",
    "        r[element]['time'] = zeit\n",
    "\n",
    "for element in r:\n",
    "    if r[element]['line'] == '3' and r[element]['direction'] != 'Thielenbruch':\n",
    "        linie3.append(r[element]['time'])\n",
    "    if r[element]['line'] == '18' and r[element]['direction'] != 'Thielenbruch':\n",
    "        linie18.append(r[element]['time'])\n",
    "\n",
    "print(linie3)  #Linie Grün (0,10,0)\n",
    "print(linie18)  #Linie Blau (0,0,5)\n",
    "# Blinken bei 10 > x > 3"
   ]
  },
  {
   "cell_type": "raw",
   "id": "outstanding-sheep",
   "metadata": {},
   "source": [
    "pip install urequests"
   ]
  },
  {
   "cell_type": "code",
   "execution_count": null,
   "id": "celtic-output",
   "metadata": {},
   "outputs": [],
   "source": []
  }
 ],
 "metadata": {
  "kernelspec": {
   "display_name": "MicroPython - USB",
   "language": "micropython",
   "name": "micropython"
  },
  "language_info": {
   "codemirror_mode": "python",
   "file_extension": ".py",
   "mimetype": "text/python",
   "name": "micropython"
  }
 },
 "nbformat": 4,
 "nbformat_minor": 5
}
