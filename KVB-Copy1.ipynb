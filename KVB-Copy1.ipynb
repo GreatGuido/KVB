{
 "cells": [
  {
   "cell_type": "code",
   "execution_count": 1,
   "id": "literary-comfort",
   "metadata": {},
   "outputs": [
    {
     "name": "stdout",
     "output_type": "stream",
     "text": [
      "[]\n",
      "[]\n"
     ]
    }
   ],
   "source": [
    "import requests\n",
    "import json\n",
    "#import machine\n",
    "#import neopixel\n",
    "\n",
    "linie3 =[]\n",
    "linie18 = []\n",
    "\n",
    "r = requests.get('https://ayacoo7.uber.space/kvb/examples/station.php?id=585')\n",
    "\n",
    "r = json.loads(r.text)\n",
    "\n",
    "r.pop(\"stand\")\n",
    "r.pop(\"name\")\n",
    "\n",
    "for element in r:\n",
    "    zeit = r[element]['time']\n",
    "    if zeit == 'Sofort':\n",
    "        r[element]['time'] = 0\n",
    "    else:\n",
    "        zeit = zeit.split()\n",
    "        zeit = zeit[0]\n",
    "        r[element]['time'] = zeit\n",
    "\n",
    "for element in r:\n",
    "    if r[element]['line'] == '3' and r[element]['direction'] != 'Thielenbruch':\n",
    "        linie3.append(r[element]['time'])\n",
    "    if r[element]['line'] == '18' and r[element]['direction'] != 'Thielenbruch':\n",
    "        linie18.append(r[element]['time'])\n",
    "\n",
    "print(linie3)  #Linie Grün (0,10,0)\n",
    "print(linie18)  #Linie Blau (0,0,5)\n",
    "# Blinken bei 10 > x > 3"
   ]
  },
  {
   "cell_type": "code",
   "execution_count": null,
   "id": "international-respect",
   "metadata": {},
   "outputs": [],
   "source": []
  },
  {
   "cell_type": "code",
   "execution_count": null,
   "id": "proved-store",
   "metadata": {},
   "outputs": [],
   "source": []
  }
 ],
 "metadata": {
  "kernelspec": {
   "display_name": "Python 3",
   "language": "python",
   "name": "python3"
  },
  "language_info": {
   "codemirror_mode": {
    "name": "ipython",
    "version": 3
   },
   "file_extension": ".py",
   "mimetype": "text/x-python",
   "name": "python",
   "nbconvert_exporter": "python",
   "pygments_lexer": "ipython3",
   "version": "3.8.6"
  }
 },
 "nbformat": 4,
 "nbformat_minor": 5
}
