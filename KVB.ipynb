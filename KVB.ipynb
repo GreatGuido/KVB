{
 "cells": [
  {
   "cell_type": "code",
   "execution_count": 1,
   "id": "designed-commonwealth",
   "metadata": {},
   "outputs": [
    {
     "name": "stdout",
     "output_type": "stream",
     "text": [
      "\u001b[34mConnecting to --port=/dev/ttyUSB0 --baud=115200 \u001b[0m\n",
      "\u001b[34mReady.\n",
      "\u001b[0m"
     ]
    }
   ],
   "source": [
    "%serialconnect to --port=/dev/ttyUSB0 --baud=115200"
   ]
  },
  {
   "cell_type": "code",
   "execution_count": null,
   "id": "homeless-administration",
   "metadata": {},
   "outputs": [],
   "source": [
    "import time\n",
    "import json\n",
    "import neopixel\n",
    "#import board\n",
    "from umqtt.simple import MQTTClient\n",
    "\n",
    "server = \"81.169.220.114\"\n",
    "\n",
    "# Received messages from subscriptions will be delivered to this callback\n",
    "def sub_cb(topic, msg):\n",
    "    if topic == bytes(\"neufelder/linie3/town\", 'utf-8'):\n",
    "        print(topic)\n",
    "        print(msg)\n",
    "        print(type(msg))\n",
    "        #in_data3 = json.loads(msg)\n",
    "        #print(in_data3)\n",
    "        \n",
    "    if topic == bytes(\"neufelder/linie18/town\", 'utf-8'):\n",
    "        print(topic)\n",
    "        print(msg)\n",
    "        \n",
    "c = MQTTClient(\"kvb-led\", server)\n",
    "c.set_callback(sub_cb)\n",
    "c.connect()\n",
    "c.subscribe(\"neufelder/+/town\")\n",
    "\n",
    "while True:\n",
    "    if True:\n",
    "        # Blocking wait for message\n",
    "        c.wait_msg()\n",
    "        \n",
    "    else:\n",
    "        # Non-blocking wait for message\n",
    "        c.check_msg()\n",
    "        \n",
    "        # Then need to sleep to avoid 100% CPU usage (in a real\n",
    "        # app other useful actions would be performed instead)\n",
    "        time.sleep(1)\n",
    "    \n",
    "    \n",
    "    \n",
    "c.disconnect()\n",
    "\n",
    "#n = 60\n",
    "#linie3 = ['1', '10', '20', '30', '40', '50']\n",
    "#linie18 = ['5', '17', '25', '35', '45', '55']\n",
    "#np = neopixel.NeoPixel(machine.Pin(14), 60)\n",
    "\n",
    "\n",
    "\n",
    "\n",
    "\"\"\"\n",
    "\n",
    "while True:\n",
    "    \n",
    "    \n",
    "    for bahn3 in range(len(linie3)):\n",
    "        min = int(linie3[bahn3])\n",
    "        np[min] = (0,1,0)\n",
    "    \n",
    "    for bahn18 in range(len(linie18)):\n",
    "        min = int(linie18[bahn18])\n",
    "        np[min] = (0,0,1)\n",
    "    \n",
    "    np.write()\n",
    "    time.sleep(10)\n",
    "\"\"\"  "
   ]
  },
  {
   "cell_type": "code",
   "execution_count": null,
   "id": "continuous-savannah",
   "metadata": {},
   "outputs": [],
   "source": []
  },
  {
   "cell_type": "code",
   "execution_count": null,
   "id": "remarkable-funds",
   "metadata": {},
   "outputs": [],
   "source": []
  }
 ],
 "metadata": {
  "kernelspec": {
   "display_name": "MicroPython - USB",
   "language": "micropython",
   "name": "micropython"
  },
  "language_info": {
   "codemirror_mode": "python",
   "file_extension": ".py",
   "mimetype": "text/python",
   "name": "micropython"
  }
 },
 "nbformat": 4,
 "nbformat_minor": 5
}
