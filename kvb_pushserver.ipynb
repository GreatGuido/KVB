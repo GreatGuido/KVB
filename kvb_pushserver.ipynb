{
 "cells": [
  {
   "cell_type": "code",
   "execution_count": null,
   "id": "broken-injury",
   "metadata": {},
   "outputs": [
    {
     "name": "stdout",
     "output_type": "stream",
     "text": [
      "['5', '15', '25', '35', '45', '55']\n",
      "['2', '10', '20', '30', '40', '50']\n"
     ]
    }
   ],
   "source": [
    "\n",
    "import json\n",
    "#import machine\n",
    "import requests\n",
    "import time\n",
    "import paho.mqtt.client as mqtt\n",
    "\n",
    "client = mqtt.Client('52dc166c-2en7-43c1-88ff-f80211c7a8f6','81.169.220.114')\n",
    "linie3 = []\n",
    "linie18 = []\n",
    "\n",
    "\n",
    "\n",
    "\n",
    "#client.loop_start()\n",
    "\n",
    "\n",
    "\n",
    "\n",
    "while True:\n",
    "    r = requests.get(url='https://ayacoo7.uber.space/kvb/examples/station.php?id=585')\n",
    "    r = json.loads(r.text)\n",
    "    r.pop(\"stand\")\n",
    "    r.pop(\"name\")\n",
    "\n",
    "    for element in r:\n",
    "        zeit = r[element]['time']\n",
    "        if zeit == 'Sofort':\n",
    "            r[element]['time'] = 0\n",
    "        else:\n",
    "            zeit = zeit.split()\n",
    "            zeit = zeit[0]\n",
    "            r[element]['time'] = zeit\n",
    "\n",
    "    for element in r:\n",
    "        if r[element]['line'] == '3' and r[element]['direction'] != 'Thielenbruch':\n",
    "            linie3.append(r[element]['time'])\n",
    "        if r[element]['line'] == '18' and r[element]['direction'] != 'Thielenbruch':\n",
    "            linie18.append(r[element]['time'])\n",
    "\n",
    "    print(linie3)  #Linie Grün (0,10,0)\n",
    "    print(linie18)  #Linie Blau (0,0,5)\n",
    "\n",
    "    for i in range(len(linie3)):\n",
    "        client.connect(\"81.169.220.114\", 1883, 60)\n",
    "        client.publish('linie3', linie3[i])\n",
    "        #print(linie3[i])\n",
    "    linie3.clear()\n",
    "        \n",
    "        \n",
    "    for i in range(len(linie18)):\n",
    "        client.connect(\"81.169.220.114\", 1883, 60)\n",
    "        client.publish('linie18', linie18[i])\n",
    "        #print(linie18[i])\n",
    "    linie18.clear()\n",
    "        \n",
    "    time.sleep(60)\n",
    "\n",
    "# Blinken bei 10 > x > 3"
   ]
  },
  {
   "cell_type": "code",
   "execution_count": null,
   "id": "forty-export",
   "metadata": {},
   "outputs": [],
   "source": []
  },
  {
   "cell_type": "code",
   "execution_count": null,
   "id": "comprehensive-norway",
   "metadata": {},
   "outputs": [],
   "source": []
  }
 ],
 "metadata": {
  "kernelspec": {
   "display_name": "Python 3",
   "language": "python",
   "name": "python3"
  },
  "language_info": {
   "codemirror_mode": {
    "name": "ipython",
    "version": 3
   },
   "file_extension": ".py",
   "mimetype": "text/x-python",
   "name": "python",
   "nbconvert_exporter": "python",
   "pygments_lexer": "ipython3",
   "version": "3.8.6"
  }
 },
 "nbformat": 4,
 "nbformat_minor": 5
}
